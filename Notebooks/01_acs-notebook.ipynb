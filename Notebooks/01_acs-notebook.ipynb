{
 "cells": [
  {
   "cell_type": "code",
   "execution_count": 21,
   "metadata": {},
   "outputs": [],
   "source": [
    "import os\n",
    "from dotenv import load_dotenv, find_dotenv\n",
    "from azure.core.credentials import AzureKeyCredential\n",
    "from azure.search.documents.indexes import SearchIndexClient \n",
    "from azure.search.documents.indexes.models import (\n",
    "    ComplexField,\n",
    "    CorsOptions,\n",
    "    SearchIndex,\n",
    "    SearchFieldDataType,\n",
    "    SimpleField,\n",
    "    SearchableField\n",
    ")"
   ]
  },
  {
   "cell_type": "code",
   "execution_count": 22,
   "metadata": {},
   "outputs": [
    {
     "data": {
      "text/plain": [
       "True"
      ]
     },
     "execution_count": 22,
     "metadata": {},
     "output_type": "execute_result"
    }
   ],
   "source": [
    "load_dotenv(find_dotenv('../application/.env'))"
   ]
  },
  {
   "cell_type": "code",
   "execution_count": 23,
   "metadata": {},
   "outputs": [
    {
     "name": "stdout",
     "output_type": "stream",
     "text": [
      "https://azureseachudemy.search.windows.net lVSNeZwfoWiZQ2NTdoAvUunLzbUHc6KUOIyugheLwvAzSeBdNvhl\n",
      "https://azureseachudemy.search.windows.net\n"
     ]
    }
   ],
   "source": [
    "endpoint = os.environ[\"SEARCH_ENDPOINT\"]\n",
    "key = os.environ[\"SEARCH_API_KEY\"]\n",
    "\n",
    "print(endpoint,key)\n",
    "\n",
    "client = SearchIndexClient(endpoint, AzureKeyCredential(key))\n",
    "print(client._endpoint)"
   ]
  },
  {
   "cell_type": "code",
   "execution_count": 24,
   "metadata": {},
   "outputs": [],
   "source": [
    "name = \"restaurant-langchain\" #\"restaurant\"\n",
    "fields = [\n",
    "    SimpleField(name=\"restaurantId\", type=SearchFieldDataType.String, key=True),\n",
    "    SimpleField(name=\"averageCost\", type=SearchFieldDataType.Double),\n",
    "    SearchableField(name=\"description\", type=SearchFieldDataType.String),\n",
    "    ComplexField(name=\"address\", fields=[\n",
    "        SimpleField(name=\"streetAddress\", type=SearchFieldDataType.String),\n",
    "        SimpleField(name=\"city\", type=SearchFieldDataType.String),\n",
    "    ])\n",
    "]"
   ]
  },
  {
   "cell_type": "code",
   "execution_count": 25,
   "metadata": {},
   "outputs": [
    {
     "name": "stdout",
     "output_type": "stream",
     "text": [
      "Index 'restaurant-langchain' already exists. (ResourceNameAlreadyInUse) Cannot create index 'restaurant-langchain' because it already exists.\n",
      "Code: ResourceNameAlreadyInUse\n",
      "Message: Cannot create index 'restaurant-langchain' because it already exists.\n",
      "Exception Details:\t(CannotCreateExistingIndex) Cannot create index 'restaurant-langchain' because it already exists.\n",
      "\tCode: CannotCreateExistingIndex\n",
      "\tMessage: Cannot create index 'restaurant-langchain' because it already exists.\n"
     ]
    }
   ],
   "source": [
    "from azure.core.exceptions import HttpResponseError\n",
    "\n",
    "cors_options = CorsOptions(allowed_origins=[\"*\"], max_age_in_seconds=60)\n",
    "scoring_profiles = []\n",
    "\n",
    "index = SearchIndex(\n",
    "    name=name,\n",
    "    fields=fields,\n",
    "    scoring_profiles=scoring_profiles,\n",
    "    cors_options=cors_options)\n",
    "\n",
    "try:\n",
    "    result = client.create_index(index)\n",
    "    print(f\"Index '{name}' created.\")\n",
    "except HttpResponseError as e:\n",
    "    print(f\"Index '{name}' already exists.\",e.message)\n"
   ]
  },
  {
   "cell_type": "markdown",
   "metadata": {},
   "source": [
    "### Add documents to the index"
   ]
  },
  {
   "cell_type": "code",
   "execution_count": 26,
   "metadata": {},
   "outputs": [],
   "source": [
    "import os\n",
    "from azure.core.credentials import AzureKeyCredential\n",
    "from azure.search.documents import SearchClient\n",
    "\n",
    "index_name = \"restaurant-langchain\" #\"restaurant\"\n",
    "endpoint = os.environ[\"SEARCH_ENDPOINT\"]\n",
    "key = os.environ[\"SEARCH_API_KEY\"]\n",
    "\n",
    "documents = [\n",
    "    {\n",
    "        'restaurantId': '1',\n",
    "        'averageCost': 50.0,\n",
    "        'description': 'Traditional Italian cuisine with a modern twist.',\n",
    "        'address': {\n",
    "            'streetAddress': '123 Via Roma',\n",
    "            'city': 'Rome',\n",
    "        }\n",
    "    },\n",
    "    {\n",
    "        'restaurantId': '2',\n",
    "        'averageCost': 70.0,\n",
    "        'description': 'Family-friendly Italian restaurant with classic dishes.',\n",
    "        'address': {\n",
    "            'streetAddress': '456 Via Milano',\n",
    "            'city': 'Milan',\n",
    "        }\n",
    "    },\n",
    "    {\n",
    "        'restaurantId': '3',\n",
    "        'averageCost': 35.0,\n",
    "        'description': 'Cozy trattoria offering regional specialties.',\n",
    "        'address': {\n",
    "            'streetAddress': '789 Via Napoli',\n",
    "            'city': 'Naples',\n",
    "        }\n",
    "    }\n",
    "]\n",
    "\n",
    "search_client = SearchClient(endpoint, index_name, AzureKeyCredential(key))\n",
    "result = search_client.upload_documents(documents=documents)\n"
   ]
  },
  {
   "cell_type": "code",
   "execution_count": 27,
   "metadata": {},
   "outputs": [
    {
     "name": "stdout",
     "output_type": "stream",
     "text": [
      "Upload of document with ID '1' succeeded: True\n",
      "Upload of document with ID '2' succeeded: True\n",
      "Upload of document with ID '3' succeeded: True\n"
     ]
    }
   ],
   "source": [
    "for res in result:\n",
    "    print(f\"Upload of document with ID '{res.key}' succeeded: {res.succeeded}\")"
   ]
  },
  {
   "cell_type": "markdown",
   "metadata": {},
   "source": [
    "Now we can retrieve Documents from ACS"
   ]
  },
  {
   "cell_type": "code",
   "execution_count": 8,
   "metadata": {},
   "outputs": [
    {
     "name": "stdout",
     "output_type": "stream",
     "text": [
      "{'address': {'streetAddress': '456 Via Milano', 'city': 'Milan'}, 'description': 'Family-friendly Italian restaurant with classic dishes.', 'averageCost': 70.0, 'restaurantId': '2', '@search.score': 1.8678205, '@search.reranker_score': None, '@search.highlights': None, '@search.captions': None}\n"
     ]
    }
   ],
   "source": [
    "results = search_client.search(search_text=\"Family friendly?\")\n",
    "\n",
    "for result in results:\n",
    "    print(result)"
   ]
  },
  {
   "cell_type": "markdown",
   "metadata": {},
   "source": [
    "### Using LangChain with ACS"
   ]
  },
  {
   "cell_type": "code",
   "execution_count": 9,
   "metadata": {},
   "outputs": [],
   "source": [
    "import os\n",
    "from langchain_openai import OpenAIEmbeddings\n",
    "from langchain.vectorstores.azuresearch import AzureSearch"
   ]
  },
  {
   "cell_type": "code",
   "execution_count": 10,
   "metadata": {},
   "outputs": [],
   "source": [
    "embeddings: OpenAIEmbeddings = OpenAIEmbeddings(deployment=\"text-embedding-ada-002\", chunk_size=1)\n",
    "index_name: str = \"langchain-example\"\n",
    "vector_store: AzureSearch = AzureSearch(\n",
    "    azure_search_endpoint=os.environ.get(\"SEARCH_ENDPOINT\"),\n",
    "    azure_search_key=os.environ.get(\"SEARCH_API_KEY\"),\n",
    "    index_name=index_name,\n",
    "    embedding_function=embeddings.embed_query,\n",
    ")"
   ]
  },
  {
   "cell_type": "code",
   "execution_count": 47,
   "metadata": {},
   "outputs": [
    {
     "ename": "KeyError",
     "evalue": "'page_content'",
     "output_type": "error",
     "traceback": [
      "\u001b[0;31m---------------------------------------------------------------------------\u001b[0m",
      "\u001b[0;31mKeyError\u001b[0m                                  Traceback (most recent call last)",
      "Cell \u001b[0;32mIn[47], line 11\u001b[0m\n\u001b[1;32m      9\u001b[0m data \u001b[38;5;241m=\u001b[39m []\n\u001b[1;32m     10\u001b[0m \u001b[38;5;28;01mfor\u001b[39;00m result \u001b[38;5;129;01min\u001b[39;00m results:\n\u001b[0;32m---> 11\u001b[0m     document_content \u001b[38;5;241m=\u001b[39m \u001b[43mresult\u001b[49m\u001b[43m[\u001b[49m\u001b[38;5;124;43m\"\u001b[39;49m\u001b[38;5;124;43mpage_content\u001b[39;49m\u001b[38;5;124;43m\"\u001b[39;49m\u001b[43m]\u001b[49m\n\u001b[1;32m     12\u001b[0m     data\u001b[38;5;241m.\u001b[39mappend(document_content)\n",
      "\u001b[0;31mKeyError\u001b[0m: 'page_content'"
     ]
    }
   ],
   "source": [
    "from langchain_community.document_loaders import DirectoryLoader, TextLoader\n",
    "\n",
    "loader = DirectoryLoader('./restaurant', glob=\"**/*.txt\", loader_cls=TextLoader)\n",
    "#data = loader.load()\n",
    "#print(len(data))\n",
    "# Query the index\n",
    "results = search_client.search(search_text=\"*\") \n",
    "# Extract the documents from the results\n",
    "data = []\n"
   ]
  },
  {
   "cell_type": "code",
   "execution_count": 46,
   "metadata": {},
   "outputs": [
    {
     "ename": "AttributeError",
     "evalue": "'dict' object has no attribute 'page_content'",
     "output_type": "error",
     "traceback": [
      "\u001b[0;31m---------------------------------------------------------------------------\u001b[0m",
      "\u001b[0;31mAttributeError\u001b[0m                            Traceback (most recent call last)",
      "Cell \u001b[0;32mIn[46], line 8\u001b[0m\n\u001b[1;32m      1\u001b[0m \u001b[38;5;28;01mfrom\u001b[39;00m \u001b[38;5;21;01mlangchain\u001b[39;00m\u001b[38;5;21;01m.\u001b[39;00m\u001b[38;5;21;01mtext_splitter\u001b[39;00m \u001b[38;5;28;01mimport\u001b[39;00m RecursiveCharacterTextSplitter\n\u001b[1;32m      2\u001b[0m text_splitter \u001b[38;5;241m=\u001b[39m RecursiveCharacterTextSplitter(\n\u001b[1;32m      3\u001b[0m     chunk_size \u001b[38;5;241m=\u001b[39m \u001b[38;5;241m120\u001b[39m,\n\u001b[1;32m      4\u001b[0m     chunk_overlap  \u001b[38;5;241m=\u001b[39m \u001b[38;5;241m20\u001b[39m,\n\u001b[1;32m      5\u001b[0m     length_function \u001b[38;5;241m=\u001b[39m \u001b[38;5;28mlen\u001b[39m,\n\u001b[1;32m      6\u001b[0m     is_separator_regex \u001b[38;5;241m=\u001b[39m \u001b[38;5;28;01mFalse\u001b[39;00m,\n\u001b[1;32m      7\u001b[0m )\n\u001b[0;32m----> 8\u001b[0m docs \u001b[38;5;241m=\u001b[39m \u001b[43mtext_splitter\u001b[49m\u001b[38;5;241;43m.\u001b[39;49m\u001b[43msplit_documents\u001b[49m\u001b[43m(\u001b[49m\u001b[43mdata\u001b[49m\u001b[43m)\u001b[49m\n\u001b[1;32m      9\u001b[0m \u001b[38;5;28mprint\u001b[39m(\u001b[38;5;28mlen\u001b[39m(docs))\n",
      "File \u001b[0;32m/Volumes/T7/dev/Azure/ref/.venv/lib/python3.9/site-packages/langchain/text_splitter.py:158\u001b[0m, in \u001b[0;36mTextSplitter.split_documents\u001b[0;34m(self, documents)\u001b[0m\n\u001b[1;32m    156\u001b[0m texts, metadatas \u001b[38;5;241m=\u001b[39m [], []\n\u001b[1;32m    157\u001b[0m \u001b[38;5;28;01mfor\u001b[39;00m doc \u001b[38;5;129;01min\u001b[39;00m documents:\n\u001b[0;32m--> 158\u001b[0m     texts\u001b[38;5;241m.\u001b[39mappend(\u001b[43mdoc\u001b[49m\u001b[38;5;241;43m.\u001b[39;49m\u001b[43mpage_content\u001b[49m)\n\u001b[1;32m    159\u001b[0m     metadatas\u001b[38;5;241m.\u001b[39mappend(doc\u001b[38;5;241m.\u001b[39mmetadata)\n\u001b[1;32m    160\u001b[0m \u001b[38;5;28;01mreturn\u001b[39;00m \u001b[38;5;28mself\u001b[39m\u001b[38;5;241m.\u001b[39mcreate_documents(texts, metadatas\u001b[38;5;241m=\u001b[39mmetadatas)\n",
      "\u001b[0;31mAttributeError\u001b[0m: 'dict' object has no attribute 'page_content'"
     ]
    }
   ],
   "source": [
    "from langchain.text_splitter import RecursiveCharacterTextSplitter\n",
    "text_splitter = RecursiveCharacterTextSplitter(\n",
    "    chunk_size = 120,\n",
    "    chunk_overlap  = 20,\n",
    "    length_function = len,\n",
    "    is_separator_regex = False,\n",
    ")\n",
    "docs = text_splitter.split_documents(data)\n",
    "print(len(docs))"
   ]
  },
  {
   "cell_type": "code",
   "execution_count": null,
   "metadata": {},
   "outputs": [],
   "source": [
    "vector_store.add_documents(documents=docs)"
   ]
  },
  {
   "cell_type": "code",
   "execution_count": null,
   "metadata": {},
   "outputs": [
    {
     "name": "stdout",
     "output_type": "stream",
     "text": [
      "[Document(page_content='Restaurant Opening Hours:', metadata={'id': 'M2E5MjZjMjMtOTliZC00MDE3LWFhNjgtM2EwZjYxMzc1NDlm', 'source': 'restaurant/opening_hours.txt'}), Document(page_content='Special Hours: Our kitchen closes 30 minutes before the restaurant closing time.', metadata={'id': 'MjJhMzg0NzktODg3My00YjkyLTg3ZWItZWQ2N2M1MTc5ODM0', 'source': 'restaurant/opening_hours.txt'}), Document(page_content='Monday to Thursday: 11:00 AM - 11:00 PM\\nFriday: 11:00 AM - 12:00 AM (midnight)', metadata={'id': 'YjhkNGI0ZGMtMWQwMC00NDMzLTg0ODAtOGM2ZWRjNzgxODcx', 'source': 'restaurant/opening_hours.txt'})]\n"
     ]
    }
   ],
   "source": [
    "\n",
    "docs = vector_store.similarity_search(\n",
    "    query=\"When are the opening hours of the restaurant?\",\n",
    "    k=3,\n",
    "    search_type=\"similarity\",\n",
    ")\n",
    "print(docs)\n"
   ]
  },
  {
   "cell_type": "code",
   "execution_count": null,
   "metadata": {},
   "outputs": [
    {
     "name": "stderr",
     "output_type": "stream",
     "text": [
      "/Volumes/T7/dev/Azure/ref/.venv/lib/python3.9/site-packages/langchain_core/_api/deprecation.py:117: LangChainDeprecationWarning: The function `run` was deprecated in LangChain 0.1.0 and will be removed in 0.2.0. Use invoke instead.\n",
      "  warn_deprecated(\n"
     ]
    },
    {
     "data": {
      "text/plain": [
       "\"The restaurant's opening hours are Monday to Thursday from 11:00 AM to 11:00 PM, and on Friday from 11:00 AM to 12:00 AM (midnight).\""
      ]
     },
     "execution_count": 15,
     "metadata": {},
     "output_type": "execute_result"
    }
   ],
   "source": [
    "from langchain.chains import RetrievalQA\n",
    "from langchain_openai import ChatOpenAI\n",
    "\n",
    "qa = RetrievalQA.from_chain_type(llm=ChatOpenAI(), chain_type=\"stuff\", retriever=vector_store.as_retriever())\n",
    "qa.run(\"When are the opening hours of the restaurant?\")"
   ]
  }
 ],
 "metadata": {
  "kernelspec": {
   "display_name": "acs",
   "language": "python",
   "name": "python3"
  },
  "language_info": {
   "codemirror_mode": {
    "name": "ipython",
    "version": 3
   },
   "file_extension": ".py",
   "mimetype": "text/x-python",
   "name": "python",
   "nbconvert_exporter": "python",
   "pygments_lexer": "ipython3",
   "version": "3.9.6"
  }
 },
 "nbformat": 4,
 "nbformat_minor": 2
}
